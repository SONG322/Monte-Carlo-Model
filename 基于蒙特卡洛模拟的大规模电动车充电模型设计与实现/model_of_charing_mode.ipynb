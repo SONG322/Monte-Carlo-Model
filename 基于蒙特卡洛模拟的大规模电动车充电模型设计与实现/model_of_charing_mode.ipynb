{
 "cells": [
  {
   "cell_type": "code",
   "execution_count": 54,
   "metadata": {},
   "outputs": [],
   "source": [
    "import math\n",
    "import matplotlib.pyplot as plt\n",
    "import numpy as np\n",
    "from scipy import interpolate\n",
    "import pylab as pl\n",
    "import random\n",
    "import importer\n",
    "from total import Tag,count,type_list,Inverse_Transform_Sampling\n",
    "from total import noon_span\n",
    "from mcs_of_charging_Start_time import R_cst_list\n",
    "\n",
    "plt.rcParams['font.sans-serif']=['SimHei'] #用来正常显示中文标签\n",
    "plt.rcParams['axes.unicode_minus'] = False #用来正常显示负号"
   ]
  },
  {
   "attachments": {},
   "cell_type": "markdown",
   "metadata": {},
   "source": [
    "  ## 1. 充电方式的概率模型：\n",
    "考虑到模型的简化，我们先基于以下几个假设：\n",
    "1. 午间时刻为[11,14.5]，这这段时间内，由于出租车和公交车为了运营的需要，我们默认它们在这段时间里选择快充\n",
    "2. 其他时段假设所有用户都可以随机选择普通充电和快速充电方式的一种\n",
    "- scm_list:0代表普充，1代表快充\n",
    "- charing_mode_p[0:2]:代表除了午间时段的公交车和出租车，用户对普通充电和快速充电方式的选择"
   ]
  },
  {
   "cell_type": "code",
   "execution_count": 55,
   "metadata": {},
   "outputs": [
    {
     "data": {
      "text/plain": [
       "0"
      ]
     },
     "execution_count": 55,
     "metadata": {},
     "output_type": "execute_result"
    }
   ],
   "source": [
    "charing_mode_p=[[0.2,0.8],[0.8,0.2]]\n",
    "\n",
    "def select_charing_mode(cst,type_car):\n",
    "    if type_car==0 or type_car==1:\n",
    "        if cst>=noon_span[0] and cst<=noon_span[1]:\n",
    "            return np.random.choice([0, 1], size=1, p=charing_mode_p[0])[0]\n",
    "    return np.random.choice([0, 1], size=1, p=charing_mode_p[1])[0]\n",
    "\n",
    "select_charing_mode(12,0) \n"
   ]
  },
  {
   "cell_type": "code",
   "execution_count": 56,
   "metadata": {},
   "outputs": [
    {
     "data": {
      "text/plain": [
       "(0.36870229007633587,\n",
       " array([1., 0., 0., 0., 0., 0., 0., 0., 0., 0.]),\n",
       " [0, 1, 0, 0, 1, 0, 1, 1, 0, 1, 1, 1, 0, 0, 1, 1, 0, 1, 1, 0])"
      ]
     },
     "execution_count": 56,
     "metadata": {},
     "output_type": "execute_result"
    }
   ],
   "source": [
    "scm,scm_list=np.zeros(shape=count),[[],[],[],[]]\n",
    "for i in range(0,4):\n",
    "    for j in range(0,len(type_list[i])):\n",
    "        charing_mode=select_charing_mode(R_cst_list[i][j],i)\n",
    "        scm_list[i].append(charing_mode)\n",
    "\n",
    "\n",
    "for i in range(4):\n",
    "    for j, car_index in enumerate(type_list[i]):\n",
    "        scm[car_index] = scm_list[i][j] \n",
    "\n",
    "sum(scm_list[1])/len(scm_list[1]),scm[0:10],scm_list[0][0:20]"
   ]
  }
 ],
 "metadata": {
  "kernelspec": {
   "display_name": "Python 3",
   "language": "python",
   "name": "python3"
  },
  "language_info": {
   "codemirror_mode": {
    "name": "ipython",
    "version": 3
   },
   "file_extension": ".py",
   "mimetype": "text/x-python",
   "name": "python",
   "nbconvert_exporter": "python",
   "pygments_lexer": "ipython3",
   "version": "3.10.2"
  },
  "orig_nbformat": 4
 },
 "nbformat": 4,
 "nbformat_minor": 2
}
